{
 "cells": [
  {
   "cell_type": "markdown",
   "metadata": {},
   "source": [
    "## Libraries"
   ]
  },
  {
   "cell_type": "code",
   "execution_count": 45,
   "metadata": {},
   "outputs": [],
   "source": [
    "import sqlite3\n",
    "from sqlite3 import Error\n",
    "import pandas as pd\n",
    "from pandas import read_excel\n",
    "import uuid\n",
    "import re\n",
    "import math\n",
    "import time"
   ]
  },
  {
   "cell_type": "markdown",
   "metadata": {},
   "source": [
    "## Setup Functions"
   ]
  },
  {
   "cell_type": "code",
   "execution_count": 46,
   "metadata": {},
   "outputs": [],
   "source": [
    "# Connect to SQLite database\n",
    "def establish_connection(db_file):\n",
    "    connection = None\n",
    "    try:\n",
    "        connection = sqlite3.connect(db_file,timeout=10)\n",
    "    except Error as e:\n",
    "        print(e)\n",
    "\n",
    "    return connection"
   ]
  },
  {
   "cell_type": "code",
   "execution_count": 47,
   "metadata": {},
   "outputs": [],
   "source": [
    "# Detemine which fields contain data for a given record\n",
    "def identify_datapoints(data):\n",
    "    data_fields = {\n",
    "        'location':False if str(data['HQ_City']) == 'nan' or str(data['HQ_State']) == 'nan' else True,\n",
    "        'industry':False if str(data['Industry']) == 'nan' else True,\n",
    "        'provider':False if str(data['Company_Name']) == 'nan' or str(data['URL']) == 'nan' else True,\n",
    "        'service':False if str(data['Keywords']) == 'nan' else True,\n",
    "        'executive':False if str(data['Company_Founders']) == 'nan' else True,\n",
    "        'revenue':False if str(data['Index_Revenues']) == 'nan' else True,\n",
    "        'employee':False if str(data['Index_Employees']) == 'nan' else True\n",
    "    }\n",
    "    \n",
    "    return data_fields"
   ]
  },
  {
   "cell_type": "markdown",
   "metadata": {},
   "source": [
    "## Lookup Functions"
   ]
  },
  {
   "cell_type": "markdown",
   "metadata": {},
   "source": [
    "### Check If Record Exists"
   ]
  },
  {
   "cell_type": "code",
   "execution_count": 48,
   "metadata": {},
   "outputs": [],
   "source": [
    "# Check if record is already in database\n",
    "def record_exists(conn,table,params):\n",
    "    sql = get_lookup_statement(table)\n",
    "    cur = conn.cursor()\n",
    "    if(hasMultiple_params(table)):\n",
    "        cur.execute(sql, params)\n",
    "    else:\n",
    "        cur.execute(sql, (params,))\n",
    "    results = cur.fetchall()\n",
    "    cur.close()\n",
    "    if(results == []):\n",
    "        return False\n",
    "    else:\n",
    "        return True"
   ]
  },
  {
   "cell_type": "markdown",
   "metadata": {},
   "source": [
    "### Get UUID For Existing Records"
   ]
  },
  {
   "cell_type": "code",
   "execution_count": 49,
   "metadata": {},
   "outputs": [],
   "source": [
    "# Return the UUID for an existing database record\n",
    "def get_uuid(conn,table,params):\n",
    "    sql = get_lookup_statement(table).replace('*','uuid')\n",
    "    cur = conn.cursor()\n",
    "    if(hasMultiple_params(table)):\n",
    "        cur.execute(sql, params)\n",
    "    else:\n",
    "        cur.execute(sql, (params,))\n",
    "    result = re.findall(\"[0-9a-fA-F]{8}\\-[0-9a-fA-F]{4}\\-[0-9a-fA-F]{4}\\-[0-9a-fA-F]{4}\\-[0-9a-fA-F]{12}\", str(cur.fetchall()))\n",
    "    cur.close()\n",
    "    return result[0]"
   ]
  },
  {
   "cell_type": "markdown",
   "metadata": {},
   "source": [
    "#### Get SQL Statements"
   ]
  },
  {
   "cell_type": "code",
   "execution_count": 50,
   "metadata": {},
   "outputs": [],
   "source": [
    "# Return the SQL statement to lookup a record in a given table\n",
    "def get_lookup_statement(table):\n",
    "    switch = {\n",
    "        'industry':'SELECT * FROM industry WHERE name = ?',\n",
    "        'provider':'SELECT * FROM provider WHERE name = ?',\n",
    "        'location':'SELECT * FROM location WHERE city = ? AND state = ?',\n",
    "        'service':'SELECT * FROM service WHERE name = ?',\n",
    "        'executive':'SELECT * FROM executive WHERE first_name = ? AND last_name = ?',\n",
    "        'industry_service':'SELECT * FROM industry_service WHERE industry_id = ? AND service_id = ?',\n",
    "        'provider_service':'SELECT * FROM provider_service WHERE provider_id = ? AND service_id = ?',\n",
    "        'provider_finance':'SELECT * FROM provider_finance WHERE provider_id = ?',\n",
    "        'revenue':'SELECT * FROM revenue WHERE year = ? AND finance_id = ?',\n",
    "        'employee':'SELECT * FROM employee WHERE year = ? AND finance_id = ?',\n",
    "        'funding':'SELECT * FROM funding WHERE finance_id = ?'\n",
    "    }\n",
    "    \n",
    "    return switch.get(table,'Invalid') "
   ]
  },
  {
   "cell_type": "code",
   "execution_count": 51,
   "metadata": {},
   "outputs": [],
   "source": [
    "# Determine which tables require multiple parameters for lookup\n",
    "def hasMultiple_params(table):\n",
    "    switch = {\n",
    "        'industry':False,\n",
    "        'provider':False,\n",
    "        'location':True,\n",
    "        'service':False,\n",
    "        'executive':True,\n",
    "        'industry_service':True,\n",
    "        'provider_service':True,\n",
    "        'provider_finance':False,\n",
    "        'revenue':True,\n",
    "        'employee':True,\n",
    "        'funding':False\n",
    "    }\n",
    "    return switch.get(table,'Invalid')"
   ]
  },
  {
   "cell_type": "markdown",
   "metadata": {},
   "source": [
    "## Insert Functions"
   ]
  },
  {
   "cell_type": "code",
   "execution_count": 52,
   "metadata": {},
   "outputs": [],
   "source": [
    "# Insert a new record into a database table\n",
    "def add_record(conn,table,record):\n",
    "    sql = get_insert_statement(table)\n",
    "    cur = conn.cursor()\n",
    "    cur.execute(sql, record)\n",
    "    cur.close()"
   ]
  },
  {
   "cell_type": "markdown",
   "metadata": {},
   "source": [
    "#### Get SQL Statements"
   ]
  },
  {
   "cell_type": "code",
   "execution_count": 53,
   "metadata": {},
   "outputs": [],
   "source": [
    "# Return the SQL statement to insert a record into a given table\n",
    "def get_insert_statement(table):\n",
    "    switch = {\n",
    "        'industry':'INSERT INTO industry(uuid,name) VALUES(?,?);',\n",
    "        'provider':'INSERT INTO provider(uuid,name,classification,year_founded,phone,website,location_id,industry_id) VALUES(?,?,?,?,?,?,?,?);',\n",
    "        'location':'INSERT INTO location(uuid,city,state) VALUES(?,?,?);',\n",
    "        'service':'INSERT INTO service(uuid,name) VALUES(?,?);',\n",
    "        'executive':'INSERT INTO executive(uuid,first_name,last_name,provider_id) VALUES(?,?,?,?);',\n",
    "        'industry_service':'INSERT INTO industry_service(uuid,industry_id,service_id) VALUES(?,?,?);',\n",
    "        'provider_service':'INSERT INTO provider_service(uuid,provider_id,service_id) VALUES(?,?,?);',\n",
    "        'provider_finance':'INSERT INTO provider_finance(uuid,revenue_growth_rate_1yr,revenue_growth_rate_3yr,employee_growth_rate_1yr,employee_growth_rate_3yr,provider_id) VALUES(?,?,?,?,?,?)',\n",
    "        'revenue':'INSERT INTO revenue(uuid,year,revenue_total,finance_id) VALUES(?,?,?,?)',\n",
    "        'employee':'INSERT INTO employee(uuid,year,employee_count,finance_id) VALUES(?,?,?,?)',\n",
    "        'funding':'INSERT INTO funding(uuid,private_equity,venture_capital,latest_year,valuation,total_funding,finance_id) VALUES (?,?,?,?,?,?,?)'\n",
    "    }\n",
    "    return switch.get(table,'Invalid')"
   ]
  },
  {
   "cell_type": "markdown",
   "metadata": {},
   "source": [
    "## Entity Specific Functions"
   ]
  },
  {
   "cell_type": "markdown",
   "metadata": {},
   "source": [
    "#### Provider"
   ]
  },
  {
   "cell_type": "code",
   "execution_count": 54,
   "metadata": {},
   "outputs": [],
   "source": [
    "# Return UUID for a Provider Entity if it exists, otherwise add a new record to the database and return the new UUID\n",
    "def get_provider_id(conn, record, location_id, industry_id):\n",
    "    if(record_exists(conn,'provider',record['Company_Name'])):\n",
    "        return get_uuid(conn,'provider',record['Company_Name'])\n",
    "    else:\n",
    "        unique_id = str(uuid.uuid1())\n",
    "        year = None if math.isnan(record['Year_Founded']) else str(record['Year_Founded'])\n",
    "        year = year[0:4] if year != None else None\n",
    "        provider = (unique_id,record['Company_Name'],record['Classification'],year,record['Headquarters_Phone'],record['URL'],location_id,industry_id)\n",
    "        add_record(conn,'provider',provider)\n",
    "        return unique_id"
   ]
  },
  {
   "cell_type": "markdown",
   "metadata": {},
   "source": [
    "#### Industry"
   ]
  },
  {
   "cell_type": "code",
   "execution_count": 55,
   "metadata": {},
   "outputs": [],
   "source": [
    "# Return UUID for an Industry Entity if it exists, otherwise add a new record to the database and return the new UUID\n",
    "def get_industry_id(conn,industry):\n",
    "    if(record_exists(conn,'industry',industry)):\n",
    "        return get_uuid(conn,'industry',industry)\n",
    "    else:\n",
    "        unique_id = str(uuid.uuid1())\n",
    "        ind = (unique_id,industry)\n",
    "        add_record(conn,'industry',ind)\n",
    "        return unique_id"
   ]
  },
  {
   "cell_type": "markdown",
   "metadata": {},
   "source": [
    "#### Location"
   ]
  },
  {
   "cell_type": "code",
   "execution_count": 56,
   "metadata": {},
   "outputs": [],
   "source": [
    "# Return UUID for a Location Entity if it exists, otherwise add a new record to the database and return the new UUID\n",
    "def get_location_id(conn,record):\n",
    "    location = (record['HQ_City'],record['HQ_State'])\n",
    "    if(record_exists(conn,'location',location)):\n",
    "        return get_uuid(conn,'location',location)\n",
    "    else:\n",
    "        unique_id = str(uuid.uuid1())\n",
    "        location = (unique_id,record['HQ_City'],record['HQ_State'])\n",
    "        add_record(conn,'location',location)\n",
    "        return unique_id"
   ]
  },
  {
   "cell_type": "markdown",
   "metadata": {},
   "source": [
    "#### Service"
   ]
  },
  {
   "cell_type": "code",
   "execution_count": 57,
   "metadata": {},
   "outputs": [],
   "source": [
    "# Return UUIDs for Service Entities if they exist, otherwise add a new records to the database and return the new UUIDs\n",
    "def get_service_ids(conn,services):\n",
    "    service_ids = []\n",
    "    \n",
    "    for service in services:\n",
    "        if(record_exists(conn,'service',service)):\n",
    "            service_ids.append(get_uuid(conn,'service',service))\n",
    "        else:\n",
    "            unique_id = str(uuid.uuid1())\n",
    "            serv = (unique_id,service)\n",
    "            add_record(conn,'service',serv)\n",
    "            service_ids.append(unique_id)\n",
    "    \n",
    "    return service_ids"
   ]
  },
  {
   "cell_type": "markdown",
   "metadata": {},
   "source": [
    "#### Executive"
   ]
  },
  {
   "cell_type": "code",
   "execution_count": 58,
   "metadata": {},
   "outputs": [],
   "source": [
    "# Return UUIDs for Executive Entities if they exist, otherwise add a new records to the database and return the new UUIDs\n",
    "def get_executive_ids(conn,executives,provider_id):\n",
    "    executive_ids = []\n",
    "    for executive in executives:\n",
    "        name = executive.split()\n",
    "        name = (name[0],name[-1])\n",
    "        if(record_exists(conn,'executive',name)):\n",
    "            executive_ids.append(get_uuid(conn,'executive',name)) \n",
    "        else:\n",
    "            unique_id = str(uuid.uuid1())\n",
    "            first_name = name[0]\n",
    "            last_name = name[-1]\n",
    "            executive = (unique_id,first_name,last_name,provider_id)\n",
    "            add_record(conn,'executive',executive)\n",
    "            executive_ids.append(unique_id)\n",
    "    \n",
    "    return executive_ids"
   ]
  },
  {
   "cell_type": "markdown",
   "metadata": {},
   "source": [
    "#### Industry/Service"
   ]
  },
  {
   "cell_type": "code",
   "execution_count": 59,
   "metadata": {},
   "outputs": [],
   "source": [
    "# Return UUIDs for Industry/Service Entities if they exist, otherwise add a new records to the database and return the new UUIDs\n",
    "def get_ind_serv_ids(conn,ind_id,serv_ids):\n",
    "    ind_serv_ids = []\n",
    "    \n",
    "    for service in serv_ids:\n",
    "        ind_serv = (ind_id,service)\n",
    "        if(record_exists(conn,'industry_service',ind_serv)):\n",
    "            ind_serv_ids.append(get_uuid(conn,'industry_service',ind_serv)) \n",
    "        else:\n",
    "            unique_id = str(uuid.uuid1())\n",
    "            industry_service = (unique_id,ind_id,service)\n",
    "            add_record(conn,'industry_service',industry_service)\n",
    "            ind_serv_ids.append(unique_id) \n",
    "    \n",
    "    return ind_serv_ids"
   ]
  },
  {
   "cell_type": "markdown",
   "metadata": {},
   "source": [
    "#### Provider/Service"
   ]
  },
  {
   "cell_type": "code",
   "execution_count": 60,
   "metadata": {},
   "outputs": [],
   "source": [
    "# Return UUIDs for Provider/Service Entities if they exist, otherwise add a new records to the database and return the new UUIDs\n",
    "def get_prov_serv_ids(conn,prov_id,serv_ids):\n",
    "    prov_serv_ids = []\n",
    "    \n",
    "    for service in serv_ids:\n",
    "        prov_serv = (prov_id,service)\n",
    "        if(record_exists(conn,'provider_service',prov_serv)):\n",
    "            prov_serv_ids.append(get_uuid(conn,'provider_service',prov_serv)) \n",
    "        else:\n",
    "            unique_id = str(uuid.uuid1())\n",
    "            provider_service = (unique_id,prov_id,service)\n",
    "            add_record(conn,'provider_service',provider_service)\n",
    "            prov_serv_ids.append(unique_id) \n",
    "    \n",
    "    return prov_serv_ids"
   ]
  },
  {
   "cell_type": "markdown",
   "metadata": {},
   "source": [
    "#### Provider/Finance"
   ]
  },
  {
   "cell_type": "code",
   "execution_count": 61,
   "metadata": {},
   "outputs": [],
   "source": [
    "# Return UUIDs for Provider/Finance Entities if they exist, otherwise add a new records to the database and return the new UUIDs\n",
    "def get_prov_fin_id(conn,record,provider_id):\n",
    "    if(record_exists(conn,'provider_finance',provider_id)):\n",
    "        return get_uuid(conn,'provider_finance',provider_id)\n",
    "    else:\n",
    "        unique_id = str(uuid.uuid1())\n",
    "        rev_grow_1yr = None if math.isnan(record['Revenues_Growth_Rate_1_Year (%)']) else record['Revenues_Growth_Rate_1_Year (%)']\n",
    "        rev_grow_3yr = None if math.isnan(record['Revenues_Growth_Rate_3_Year (%)']) else record['Revenues_Growth_Rate_3_Year (%)']\n",
    "        emp_grow_1yr = None if math.isnan(record['Employees_Growth_Rate_1_Year (%)']) else record['Employees_Growth_Rate_1_Year (%)']\n",
    "        emp_grow_3yr = None if math.isnan(record['Employees_Growth_Rate_3_Year (%)']) else record['Employees_Growth_Rate_3_Year (%)']\n",
    "        prov_fin = (unique_id,rev_grow_1yr,rev_grow_3yr,emp_grow_1yr,emp_grow_3yr,provider_id)\n",
    "        add_record(conn,'provider_finance',prov_fin)\n",
    "        return unique_id"
   ]
  },
  {
   "cell_type": "markdown",
   "metadata": {},
   "source": [
    "#### Revenue"
   ]
  },
  {
   "cell_type": "code",
   "execution_count": 62,
   "metadata": {},
   "outputs": [],
   "source": [
    "# Return UUIDs for Revenue Entities if they exist, otherwise add a new records to the database and return the new UUIDs\n",
    "def get_revenue_ids(conn,record,finance_id):\n",
    "    revenues = [x.split(':') for x in str(record).split('|')]\n",
    "    rev_ids = []\n",
    "    for val in revenues:\n",
    "        year = val[0]\n",
    "        amount = val[1]\n",
    "        rev = (year,finance_id)\n",
    "        if(record_exists(conn,'revenue',rev)):\n",
    "            rev_ids.append(get_uuid(conn,'revenue',rev))\n",
    "        else:\n",
    "            unique_id = str(uuid.uuid1())\n",
    "            rev = (unique_id,year,amount,finance_id)\n",
    "            add_record(conn,'revenue',rev)\n",
    "            rev_ids.append(unique_id)\n",
    "    return rev_ids"
   ]
  },
  {
   "cell_type": "markdown",
   "metadata": {},
   "source": [
    "#### Employee"
   ]
  },
  {
   "cell_type": "code",
   "execution_count": 63,
   "metadata": {},
   "outputs": [],
   "source": [
    "# Return UUIDs for Employee Entities if they exist, otherwise add a new records to the database and return the new UUIDs\n",
    "def get_employee_ids(conn,record,finance_id):\n",
    "    employees = [x.split(':') for x in str(record).split('|')]\n",
    "    emp_ids = []\n",
    "    for val in employees:\n",
    "        year = val[0]\n",
    "        amount = val[1]\n",
    "        emp = (year,finance_id)\n",
    "        if(record_exists(conn,'employee',emp)):\n",
    "            emp_ids.append(get_uuid(conn,'employee',emp))\n",
    "        else:\n",
    "            unique_id = str(uuid.uuid1())\n",
    "            emp = (unique_id,year,amount,finance_id)\n",
    "            add_record(conn,'employee',emp)\n",
    "            emp_ids.append(unique_id)\n",
    "    return emp_ids"
   ]
  },
  {
   "cell_type": "markdown",
   "metadata": {},
   "source": [
    "#### Funding"
   ]
  },
  {
   "cell_type": "code",
   "execution_count": 64,
   "metadata": {},
   "outputs": [],
   "source": [
    "# Return UUID for a Funding Entity if it exists, otherwise add a new record to the database and return the new UUID\n",
    "def get_funding_ids(conn,record,finance_id):\n",
    "    if(record_exists(conn,'funding',finance_id)):\n",
    "        return get_uuid(conn,'funding',finance_id)\n",
    "    else:\n",
    "        unique_id = str(uuid.uuid1())\n",
    "        pe_backed = record['PE_Backed?']\n",
    "        vc_backed = record['VC_Backed?']\n",
    "        val_year = None if math.isnan(record['Latest_Valuation_Year']) else str(record['Latest_Valuation_Year'])\n",
    "        val_year = val_year[0:4] if val_year != None else None\n",
    "        val = record['Latest_Valuation']\n",
    "        total_fund = record['Total_Funding']\n",
    "        funding = (unique_id, pe_backed, vc_backed, val_year, val, total_fund, finance_id)\n",
    "        add_record(conn,'funding',funding)\n",
    "        return unique_id"
   ]
  },
  {
   "cell_type": "markdown",
   "metadata": {},
   "source": [
    "## Main Functions"
   ]
  },
  {
   "cell_type": "code",
   "execution_count": 65,
   "metadata": {},
   "outputs": [],
   "source": [
    "# Insert all available datapoints into the database\n",
    "def insert_data(db_conn,record,hasData):\n",
    "    location_id = get_location_id(db_conn,record) if hasData['location'] else None\n",
    "    industry_id = get_industry_id(db_conn,record['Industry']) if hasData['industry'] else None\n",
    "    provider_id = get_provider_id(db_conn,record,location_id,industry_id) if hasData['provider'] else None\n",
    "    service_ids = get_service_ids(db_conn,record['Keywords'].split(',')) if hasData['service'] else None\n",
    "    executive_ids = get_executive_ids(db_conn,record['Company_Founders'].split('|'),provider_id) if hasData['executive'] else None\n",
    "    \n",
    "    ind_serv_ids = get_ind_serv_ids(db_conn,industry_id,service_ids) if hasData['industry'] and hasData['service'] else None\n",
    "    prov_serv_ids = get_prov_serv_ids(db_conn,provider_id,service_ids) if hasData['provider'] and hasData['service'] else None\n",
    "\n",
    "    finance_id = get_prov_fin_id(db_conn,record,provider_id) if provider_id != None else None\n",
    "    \n",
    "    revenue_ids = get_revenue_ids(db_conn,record['Index_Revenues'],finance_id) if hasData['revenue'] and finance_id != None else None\n",
    "    employee_ids = get_employee_ids(db_conn,record['Index_Employees'],finance_id) if hasData['employee'] and finance_id != None else None\n",
    "    \n",
    "    funding_ids = get_funding_ids(db_conn,record,finance_id) if finance_id != None else None\n",
    "    \n",
    "    entry = {\n",
    "        'provider_id':str(provider_id),\n",
    "        'location_id':str(location_id),\n",
    "        'industry_id':str(industry_id),\n",
    "        'service_ids':str(service_ids),\n",
    "        'executive_ids':str(executive_ids),\n",
    "        'industry_service_ids':str(ind_serv_ids),\n",
    "        'provider_service_ids':str(prov_serv_ids),\n",
    "        'provider_finance_id':str(finance_id),\n",
    "        'revenue_ids':str(revenue_ids),\n",
    "        'employee_ids':str(employee_ids),\n",
    "        'funding_ids':str(funding_ids)\n",
    "    }\n",
    "    \n",
    "    return entry"
   ]
  },
  {
   "cell_type": "code",
   "execution_count": 66,
   "metadata": {},
   "outputs": [],
   "source": [
    "#  Write UUIDs of added entries to a log file\n",
    "def write_to_log(entry):\n",
    "    output_log.write(\"\\n\\nAdded entry:\")\n",
    "    for key,item in entry.items():\n",
    "        output_log.write('\\n\\t' + key + ' : ' + item)"
   ]
  },
  {
   "cell_type": "markdown",
   "metadata": {},
   "source": [
    "#### Main"
   ]
  },
  {
   "cell_type": "code",
   "execution_count": 68,
   "metadata": {
    "scrolled": false
   },
   "outputs": [],
   "source": [
    "# Iterate over rows from data extract and insert any new records into the database\n",
    "db_file = r\"C:\\Users\\collinsm4\\Documents\\Wentworth\\Senior\\Capstone\\msp_prospects.sqlite\"\n",
    "db_conn = establish_connection(db_file)\n",
    "\n",
    "data_file = r\"C:\\Users\\collinsm4\\Documents\\Wentworth\\Senior\\Capstone\\Data Extraction\\Data.xlsx\"\n",
    "data = pd.read_excel(data_file)\n",
    "\n",
    "timestamp = time.strftime(\"%Y.%m.%d_%H.%M.%S\",time.localtime())\n",
    "filename = '\\Output_Log_' + timestamp + '.txt'\n",
    "output_log = open(r\"C:\\Users\\collinsm4\\Documents\\Wentworth\\Senior\\Capstone\\Data Insert\\Log Files\" + filename,\"w\")\n",
    "\n",
    "for index in range(len(data)):\n",
    "    record = data.loc[index]    \n",
    "    available_data = identify_datapoints(record)\n",
    "\n",
    "    uuids_added = insert_data(db_conn,record,available_data)\n",
    "    \n",
    "    write_to_log(uuids_added)    \n",
    "    \n",
    "\n",
    "output_log.close()\n",
    "db_conn.commit()\n",
    "db_conn.close()"
   ]
  }
 ],
 "metadata": {
  "kernelspec": {
   "display_name": "Python 3",
   "language": "python",
   "name": "python3"
  },
  "language_info": {
   "codemirror_mode": {
    "name": "ipython",
    "version": 3
   },
   "file_extension": ".py",
   "mimetype": "text/x-python",
   "name": "python",
   "nbconvert_exporter": "python",
   "pygments_lexer": "ipython3",
   "version": "3.7.6"
  }
 },
 "nbformat": 4,
 "nbformat_minor": 4
}

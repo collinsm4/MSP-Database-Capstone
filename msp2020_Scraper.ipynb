{
 "cells": [
  {
   "cell_type": "markdown",
   "metadata": {},
   "source": [
    "## Libraries"
   ]
  },
  {
   "cell_type": "code",
   "execution_count": 2,
   "metadata": {},
   "outputs": [],
   "source": [
    "from bs4 import BeautifulSoup\n",
    "from urllib.request import urlopen\n",
    "from selenium import webdriver\n",
    "from selenium.webdriver.chrome.options import Options\n",
    "import pandas as pd"
   ]
  },
  {
   "cell_type": "markdown",
   "metadata": {},
   "source": [
    "## Initialization"
   ]
  },
  {
   "cell_type": "code",
   "execution_count": 3,
   "metadata": {},
   "outputs": [],
   "source": [
    "# Initialize object to read and parse data from MSP list\n",
    "list_url = \"https://www.crn.com/news/managed-services/the-2020-managed-service-provider-500\"\n",
    "list_soup = BeautifulSoup(urlopen(list_url),'html.parser')"
   ]
  },
  {
   "cell_type": "code",
   "execution_count": 4,
   "metadata": {},
   "outputs": [],
   "source": [
    "# Initialize headless browser to render HTML from webpages\n",
    "chrome_options = Options()\n",
    "chrome_options.add_argument(\"--headless\")\n",
    "browser = webdriver.Chrome(options=chrome_options, executable_path=r\"\\Users\\collinsm4\\Desktop\\chromedriver_win32\\chromedriver.exe\")"
   ]
  },
  {
   "cell_type": "code",
   "execution_count": 5,
   "metadata": {},
   "outputs": [],
   "source": [
    "# Initialize empty list for each data point\n",
    "providers = []\n",
    "sources = []\n",
    "ids = []\n",
    "executives = []\n",
    "websites = []\n",
    "locations = []\n",
    "appearances = []\n",
    "awards = []"
   ]
  },
  {
   "cell_type": "markdown",
   "metadata": {},
   "source": [
    "## Functions"
   ]
  },
  {
   "cell_type": "code",
   "execution_count": 10,
   "metadata": {},
   "outputs": [],
   "source": [
    "# Define function to open link to company data table and find all available data points\n",
    "def get_data(url):    \n",
    "    browser.get(url)\n",
    "    table_soup = BeautifulSoup(browser.page_source)\n",
    "    \n",
    "    table = table_soup.find('div',attrs={'id':'databaseResults'})\n",
    "    records = table.find_all('div',attrs={'class':'ans'})\n",
    "    \n",
    "    data = []\n",
    "    for entry in records:\n",
    "        data.append(entry.get_text())\n",
    "    \n",
    "    return data"
   ]
  },
  {
   "cell_type": "code",
   "execution_count": 7,
   "metadata": {},
   "outputs": [],
   "source": [
    "# Define function to append data to corresponding list\n",
    "def store_data(name,source,id,data):\n",
    "    providers.append(name)\n",
    "    sources.append(source)\n",
    "    ids.append(id)\n",
    "    executives.append(data[0])\n",
    "    websites.append(data[1])\n",
    "    locations.append(data[2])\n",
    "    appearances.append(data[3])\n",
    "    awards.append(data[4])"
   ]
  },
  {
   "cell_type": "markdown",
   "metadata": {},
   "source": [
    "## Main"
   ]
  },
  {
   "cell_type": "code",
   "execution_count": 11,
   "metadata": {},
   "outputs": [],
   "source": [
    "# Iterate over all providers listed, gather available data, and save to corresponding list\n",
    "for provider in list_soup.find_all('div',attrs={'class':'data1'}):\n",
    "    company = provider.get_text()\n",
    "    url = provider.find('a').get('href')\n",
    "    id = url.replace('https://www.crn.com/rankings-and-lists/msp2020-details.htm?c=','')\n",
    "\n",
    "    company_data = get_data(url)\n",
    "    \n",
    "    store_data(company, url, id, company_data)\n",
    "\n",
    "browser.close()"
   ]
  },
  {
   "cell_type": "markdown",
   "metadata": {},
   "source": [
    "## Data Export"
   ]
  },
  {
   "cell_type": "code",
   "execution_count": 12,
   "metadata": {},
   "outputs": [],
   "source": [
    "# Combine data lists into a table\n",
    "data_table = pd.DataFrame({'id':ids,'provider':providers,'location':locations,'executive':executives,'website':websites,'msp500_award':awards,'msp500_appearances':appearances,'source':sources})"
   ]
  },
  {
   "cell_type": "code",
   "execution_count": 13,
   "metadata": {},
   "outputs": [],
   "source": [
    "# Export table to CSV file\n",
    "data_table.to_csv('msp_2020_test2.csv',index=False)"
   ]
  }
 ],
 "metadata": {
  "kernelspec": {
   "display_name": "Python 3",
   "language": "python",
   "name": "python3"
  },
  "language_info": {
   "codemirror_mode": {
    "name": "ipython",
    "version": 3
   },
   "file_extension": ".py",
   "mimetype": "text/x-python",
   "name": "python",
   "nbconvert_exporter": "python",
   "pygments_lexer": "ipython3",
   "version": "3.7.6"
  }
 },
 "nbformat": 4,
 "nbformat_minor": 4
}
